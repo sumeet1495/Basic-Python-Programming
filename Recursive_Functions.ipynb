{
 "cells": [
  {
   "cell_type": "markdown",
   "metadata": {},
   "source": [
    "# Recursion in Python\n",
    "When a function call itself"
   ]
  },
  {
   "cell_type": "markdown",
   "metadata": {},
   "source": [
    "## python program to print factorial of a number using recurion"
   ]
  },
  {
   "cell_type": "code",
   "execution_count": 1,
   "metadata": {},
   "outputs": [
    {
     "name": "stdout",
     "output_type": "stream",
     "text": [
      "Factorial of 4 is 24\n"
     ]
    }
   ],
   "source": [
    "\n",
    "def factorial(num):\n",
    "    \"\"\"\n",
    "    This is a recursive function to find the factorial of a given number\n",
    "    \"\"\"\n",
    "    return 1 if num == 1 else (num * factorial(num-1))\n",
    "\n",
    "num = 4\n",
    "print (\"Factorial of {0} is {1}\".format(num, factorial(num)))"
   ]
  },
  {
   "cell_type": "code",
   "execution_count": 2,
   "metadata": {},
   "outputs": [],
   "source": [
    "## Other way of writing if else "
   ]
  },
  {
   "cell_type": "code",
   "execution_count": 3,
   "metadata": {},
   "outputs": [],
   "source": [
    "def fact(num):\n",
    "    \"\"\" print factorial of number \"\"\"\n",
    "    if num==1:\n",
    "        return 1\n",
    "    else:\n",
    "        return num*fact(num-1)"
   ]
  },
  {
   "cell_type": "code",
   "execution_count": 4,
   "metadata": {},
   "outputs": [],
   "source": [
    "num=5"
   ]
  },
  {
   "cell_type": "code",
   "execution_count": 5,
   "metadata": {},
   "outputs": [
    {
     "name": "stdout",
     "output_type": "stream",
     "text": [
      "Factorial of num 5 is 120\n"
     ]
    }
   ],
   "source": [
    "print(\"Factorial of num {0} is {1}\".format(num,fact(num)))"
   ]
  },
  {
   "cell_type": "markdown",
   "metadata": {},
   "source": [
    "## Advantage :\n",
    "1. Easier and clean code\n",
    "2. Breaks the large program into simple sub-problems"
   ]
  },
  {
   "cell_type": "markdown",
   "metadata": {},
   "source": [
    "## Disadvantage :\n",
    "1. Hard to debug\n",
    "2. Recursive call expensive with lots of memory usage "
   ]
  },
  {
   "cell_type": "markdown",
   "metadata": {},
   "source": [
    "## Fibonacci Series - "
   ]
  },
  {
   "cell_type": "markdown",
   "metadata": {},
   "source": [
    "fib(0)=0 <br>\n",
    "fib(1)=1 <br>\n",
    "fib(n)=fib(n-1) + fib(n-2)<br>"
   ]
  },
  {
   "cell_type": "code",
   "execution_count": 10,
   "metadata": {},
   "outputs": [],
   "source": [
    "def fib(num):\n",
    "    \"\"\" Program to print fibonacci series \"\"\"\n",
    "    if(num<=1):\n",
    "        return num\n",
    "    else:\n",
    "        return fib(num-1) + fib(num-2)"
   ]
  },
  {
   "cell_type": "code",
   "execution_count": 11,
   "metadata": {},
   "outputs": [],
   "source": [
    "terms=list(range(10))"
   ]
  },
  {
   "cell_type": "code",
   "execution_count": 12,
   "metadata": {},
   "outputs": [
    {
     "name": "stdout",
     "output_type": "stream",
     "text": [
      "0\n",
      "1\n",
      "1\n",
      "2\n",
      "3\n",
      "5\n",
      "8\n",
      "13\n",
      "21\n",
      "34\n"
     ]
    }
   ],
   "source": [
    "for i in terms:\n",
    "    print(fib(i))"
   ]
  },
  {
   "cell_type": "code",
   "execution_count": null,
   "metadata": {},
   "outputs": [],
   "source": []
  }
 ],
 "metadata": {
  "kernelspec": {
   "display_name": "Python 3",
   "language": "python",
   "name": "python3"
  },
  "language_info": {
   "codemirror_mode": {
    "name": "ipython",
    "version": 3
   },
   "file_extension": ".py",
   "mimetype": "text/x-python",
   "name": "python",
   "nbconvert_exporter": "python",
   "pygments_lexer": "ipython3",
   "version": "3.7.3"
  }
 },
 "nbformat": 4,
 "nbformat_minor": 2
}
