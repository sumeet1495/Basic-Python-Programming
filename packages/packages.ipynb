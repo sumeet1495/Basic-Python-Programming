{
 "cells": [
  {
   "cell_type": "markdown",
   "metadata": {},
   "source": [
    "# Package"
   ]
  },
  {
   "cell_type": "markdown",
   "metadata": {},
   "source": [
    "Packages are a way of structuring Python’s module namespace by using “dotted module names”.\n",
    "\n",
    "A directory must contain a file named __init__.py in order for Python to consider it as a package. This file can be left empty but we generally place the initialization code for that package in this file."
   ]
  },
  {
   "cell_type": "markdown",
   "metadata": {},
   "source": [
    "![title](package.jpg)"
   ]
  },
  {
   "cell_type": "markdown",
   "metadata": {},
   "source": [
    "# importing module from a package"
   ]
  },
  {
   "cell_type": "markdown",
   "metadata": {},
   "source": [
    "We can import modules from packages using the dot (.) operator."
   ]
  },
  {
   "cell_type": "code",
   "execution_count": 1,
   "metadata": {},
   "outputs": [],
   "source": [
    "# import Gate.Image.open "
   ]
  },
  {
   "cell_type": "markdown",
   "metadata": {},
   "source": [
    "# Notes"
   ]
  },
  {
   "cell_type": "markdown",
   "metadata": {},
   "source": [
    "Inside a package if I have subpackages and let's say I load a module from within a subpackage, does it run the __init__ file from both the main package and the subpackage and then load the file ?"
   ]
  },
  {
   "cell_type": "markdown",
   "metadata": {},
   "source": [
    "Let's say you have the structure: <br>\n",
    "dir <br>\n",
    "|\n",
    "+-- test.py <br>\n",
    "|\n",
    "+-- package<br>\n",
    "|\n",
    "+-- test1.py <br>\n",
    "|\n",
    "+-- __init__.py <br>\n",
    "|\n",
    "+-- subpackage <br>\n",
    "|\n",
    "+-- __init__.py <br>\n",
    "|\n",
    "+-- module.py <br>\n",
    "Files named __init__.py are used to mark directories on disk as Python package directories. <br>If you are importing module.py from test.py:<br>\n",
    ">> from package.subpackage import module -> both __init__.py files run <br>\n",
    "Files named __init__.py are used to mark directories on disk as Python package directories. If you are importing module.py from test1.py: <br>\n",
    ">> from subpackage import module -> only one __init__.py file is run <br>"
   ]
  },
  {
   "cell_type": "code",
   "execution_count": null,
   "metadata": {},
   "outputs": [],
   "source": []
  }
 ],
 "metadata": {
  "kernelspec": {
   "display_name": "Python 3",
   "language": "python",
   "name": "python3"
  },
  "language_info": {
   "codemirror_mode": {
    "name": "ipython",
    "version": 3
   },
   "file_extension": ".py",
   "mimetype": "text/x-python",
   "name": "python",
   "nbconvert_exporter": "python",
   "pygments_lexer": "ipython3",
   "version": "3.7.3"
  }
 },
 "nbformat": 4,
 "nbformat_minor": 2
}
