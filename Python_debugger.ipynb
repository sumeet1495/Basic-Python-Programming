{
 "cells": [
  {
   "cell_type": "markdown",
   "metadata": {},
   "source": [
    "# Debugging"
   ]
  },
  {
   "cell_type": "markdown",
   "metadata": {},
   "source": [
    "pdb implements an interactive debugging environment for Python programs. It includes features to let you pause your program, look at the values of variables, and watch program execution step-by-step"
   ]
  },
  {
   "cell_type": "code",
   "execution_count": 1,
   "metadata": {},
   "outputs": [],
   "source": [
    "import pdb"
   ]
  },
  {
   "cell_type": "code",
   "execution_count": 2,
   "metadata": {},
   "outputs": [
    {
     "name": "stdout",
     "output_type": "stream",
     "text": [
      "> <ipython-input-2-f1a1b780b624>(4)print_nos()\n",
      "-> print(i)\n",
      "(Pdb) p i\n",
      "0\n",
      "(Pdb) c\n",
      "0\n",
      "> <ipython-input-2-f1a1b780b624>(3)print_nos()\n",
      "-> pdb.set_trace() # breakpoint\n",
      "(Pdb) p i\n",
      "1\n",
      "(Pdb) c\n",
      "1\n",
      "> <ipython-input-2-f1a1b780b624>(4)print_nos()\n",
      "-> print(i)\n",
      "(Pdb) p i\n",
      "2\n",
      "(Pdb) p locals\n",
      "<built-in function locals>\n",
      "(Pdb) p locals()\n",
      "{'n': 5, 'i': 2}\n",
      "(Pdb) p global()\n",
      "*** SyntaxError: invalid syntax\n",
      "(Pdb) p globals()\n",
      "{'__name__': '__main__', '__doc__': 'Automatically created module for IPython interactive environment', '__package__': None, '__loader__': None, '__spec__': None, '__builtin__': <module 'builtins' (built-in)>, '__builtins__': <module 'builtins' (built-in)>, '_ih': ['', 'import pdb', 'def print_nos(n):\\n    for i in range(n):\\n        pdb.set_trace() # breakpoint\\n        print(i)\\n    return\\n\\nprint_nos(5)'], '_oh': {}, '_dh': ['D:\\\\GitHub Machine Learning\\\\Basic-Python-Programming'], 'In': ['', 'import pdb', 'def print_nos(n):\\n    for i in range(n):\\n        pdb.set_trace() # breakpoint\\n        print(i)\\n    return\\n\\nprint_nos(5)'], 'Out': {}, 'get_ipython': <bound method InteractiveShell.get_ipython of <ipykernel.zmqshell.ZMQInteractiveShell object at 0x000001BB13285240>>, 'exit': <IPython.core.autocall.ZMQExitAutocall object at 0x000001BB13BFC128>, 'quit': <IPython.core.autocall.ZMQExitAutocall object at 0x000001BB13BFC128>, '_': '', '__': '', '___': '', '_i': 'import pdb', '_ii': '', '_iii': '', '_i1': 'import pdb', 'pdb': <module 'pdb' from 'C:\\\\ProgramData\\\\Anaconda3\\\\lib\\\\pdb.py'>, '_i2': 'def print_nos(n):\\n    for i in range(n):\\n        pdb.set_trace() # breakpoint\\n        print(i)\\n    return\\n\\nprint_nos(5)', 'print_nos': <function print_nos at 0x000001BB13D111E0>}\n",
      "(Pdb) c\n",
      "2\n",
      "> <ipython-input-2-f1a1b780b624>(3)print_nos()\n",
      "-> pdb.set_trace() # breakpoint\n",
      "(Pdb) p i\n",
      "3\n",
      "(Pdb) p n\n",
      "5\n",
      "(Pdb) c\n",
      "3\n",
      "> <ipython-input-2-f1a1b780b624>(4)print_nos()\n",
      "-> print(i)\n",
      "(Pdb) p i\n",
      "4\n",
      "(Pdb) c\n",
      "4\n"
     ]
    }
   ],
   "source": [
    "def print_nos(n):\n",
    "    for i in range(n):\n",
    "        pdb.set_trace() # breakpoint\n",
    "        print(i)\n",
    "    return\n",
    "\n",
    "print_nos(5)"
   ]
  },
  {
   "cell_type": "markdown",
   "metadata": {},
   "source": [
    "## c : continue - continue next statement\n",
    "## q: quit\n",
    "## h: help\n",
    "## list\n",
    "## p: print - print the value\n",
    "## p locals() -  print the locals\n",
    "## p globals() - print the globals"
   ]
  },
  {
   "cell_type": "code",
   "execution_count": null,
   "metadata": {},
   "outputs": [],
   "source": []
  }
 ],
 "metadata": {
  "kernelspec": {
   "display_name": "Python 3",
   "language": "python",
   "name": "python3"
  },
  "language_info": {
   "codemirror_mode": {
    "name": "ipython",
    "version": 3
   },
   "file_extension": ".py",
   "mimetype": "text/x-python",
   "name": "python",
   "nbconvert_exporter": "python",
   "pygments_lexer": "ipython3",
   "version": "3.7.3"
  }
 },
 "nbformat": 4,
 "nbformat_minor": 2
}
